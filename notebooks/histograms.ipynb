{
 "metadata": {
  "name": "",
  "signature": "sha256:86d0c1ab6caf9158d8b92f003a0afe379902f2f87c60db47f0b36e8452356b34"
 },
 "nbformat": 3,
 "nbformat_minor": 0,
 "worksheets": [
  {
   "cells": [
    {
     "cell_type": "code",
     "collapsed": false,
     "input": [
      "import plotly.plotly as py\n",
      "import plotly.tools as tls\n",
      "from plotly.graph_objs import *\n",
      "import numpy as np\n",
      "py.sign_in('pythonapi', 'ubpiol2cve')\n",
      "x=np.random.randn(1000)\n",
      "y=np.random.randn(1000)\n",
      "fig = tls.get_subplots(1,2)\n",
      "fig['data'] += [Histogram(x=x, xaxis='x1', yaxis='y1'), Histogram(y=y, xaxis='x2', yaxis='y2')]\n",
      "py.iplot(fig, filename='messin')"
     ],
     "language": "python",
     "metadata": {},
     "outputs": [
      {
       "html": [
        "<iframe id=\"igraph\" scrolling=\"no\" style=\"border:none;\"seamless=\"seamless\" src=\"https://plot.ly/~PythonAPI/121\" height=\"525\" width=\"100%\"></iframe>"
       ],
       "metadata": {},
       "output_type": "display_data",
       "text": [
        "<IPython.core.display.HTML at 0x110e32f10>"
       ]
      }
     ],
     "prompt_number": 2
    },
    {
     "cell_type": "code",
     "collapsed": false,
     "input": [],
     "language": "python",
     "metadata": {},
     "outputs": []
    }
   ],
   "metadata": {}
  }
 ]
}