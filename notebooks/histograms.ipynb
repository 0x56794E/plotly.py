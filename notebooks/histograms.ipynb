{
 "metadata": {
  "name": "",
  "signature": "sha256:3231649927bf8e1b8f4715da926b6d8a4f5bd7e66b5cee58abeb78627117f82d"
 },
 "nbformat": 3,
 "nbformat_minor": 0,
 "worksheets": [
  {
   "cells": [
    {
     "cell_type": "code",
     "collapsed": false,
     "input": [
      "import plotly.plotly as py\n",
      "import plotly.tools as tls\n",
      "from plotly.graph_objs import *\n",
      "import numpy as np\n",
      "py.sign_in('pythonapi', 'ubpiol2cve')\n",
      "x=np.random.randn(1000)\n",
      "y=np.random.randn(1000)\n",
      "fig = tls.get_subplots(1,2)\n",
      "fig['data'] += [Histogram(x=x, xaxis='x1', yaxis='y1'), Histogram(y=y, xaxis='x2', yaxis='y2')]\n",
      "py.iplot(fig, filename='iss-histogram')"
     ],
     "language": "python",
     "metadata": {},
     "outputs": [
      {
       "html": [
        "<iframe id=\"igraph\" scrolling=\"no\" style=\"border:none;\"seamless=\"seamless\" src=\"https://plot.ly/~PythonAPI/162\" height=\"525\" width=\"100%\"></iframe>"
       ],
       "metadata": {},
       "output_type": "display_data",
       "text": [
        "<IPython.core.display.HTML at 0x110e32bd0>"
       ]
      }
     ],
     "prompt_number": 3
    },
    {
     "cell_type": "code",
     "collapsed": false,
     "input": [],
     "language": "python",
     "metadata": {},
     "outputs": []
    }
   ],
   "metadata": {}
  }
 ]
}