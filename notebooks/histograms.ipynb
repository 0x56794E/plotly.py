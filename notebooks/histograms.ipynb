{
 "metadata": {
  "name": "",
  "signature": "sha256:d610979d103a2c24a4dd81ba6c84998277b909ee32de76685ff8af85e132e8bf"
 },
 "nbformat": 3,
 "nbformat_minor": 0,
 "worksheets": [
  {
   "cells": [
    {
     "cell_type": "code",
     "collapsed": false,
     "input": [
      "import plotly.plotly as py\n",
      "import plotly.tools as tls\n",
      "from plotly.graph_objs import *\n",
      "import numpy as np\n",
      "fig = tls.get_subplots(1,2)\n",
      "fig"
     ],
     "language": "python",
     "metadata": {},
     "outputs": [
      {
       "metadata": {},
       "output_type": "pyout",
       "prompt_number": 3,
       "text": [
        "{'data': [],\n",
        " 'layout': {'xaxis1': {'anchor': 'y1', 'domain': [0.0, 0.45]},\n",
        "  'xaxis2': {'anchor': 'y2', 'domain': [0.55, 1.0]},\n",
        "  'yaxis1': {'anchor': 'x1', 'domain': [0.0, 1.0]},\n",
        "  'yaxis2': {'anchor': 'x2', 'domain': [0.0, 1.0]}}}"
       ]
      }
     ],
     "prompt_number": 3
    },
    {
     "cell_type": "code",
     "collapsed": false,
     "input": [
      "py.sign_in('pythonapi', 'ubpiol2cve')\n",
      "x=np.random.randn(1000)\n",
      "y=np.random.randn(1000)\n",
      "fig['data'] += [Histogram(x=x, xaxis='x1', yaxis='y1'), Histogram(y=y, xaxis='x2', yaxis='y2')]\n",
      "py.iplot(fig, filename='iss-histogram')"
     ],
     "language": "python",
     "metadata": {},
     "outputs": [
      {
       "html": [
        "<iframe id=\"igraph\" scrolling=\"no\" style=\"border:none;\"seamless=\"seamless\" src=\"https://plot.ly/~PythonAPI/162\" height=\"525\" width=\"100%\"></iframe>"
       ],
       "metadata": {},
       "output_type": "display_data",
       "text": [
        "<IPython.core.display.HTML at 0x1082f8bd0>"
       ]
      }
     ],
     "prompt_number": 4
    },
    {
     "cell_type": "code",
     "collapsed": false,
     "input": [],
     "language": "python",
     "metadata": {},
     "outputs": []
    }
   ],
   "metadata": {}
  }
 ]
}