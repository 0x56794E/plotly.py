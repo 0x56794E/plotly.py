{
 "metadata": {
  "name": "",
  "signature": "sha256:0f2eca2712ca1aa72237c16b29e88bcf8021156a80b9befc47463a583dc8f046"
 },
 "nbformat": 3,
 "nbformat_minor": 0,
 "worksheets": [
  {
   "cells": [
    {
     "cell_type": "code",
     "collapsed": false,
     "input": [
      "import matplotlib.pyplot as plt\n",
      "import plotly.plotly as py\n",
      "import plotly.tools as tls\n",
      "from plotly.graph_objs import *"
     ],
     "language": "python",
     "metadata": {},
     "outputs": [],
     "prompt_number": 1
    },
    {
     "cell_type": "code",
     "collapsed": false,
     "input": [
      "D = dict(\n",
      "    left=[0, 1, 2, 3, 4, 5],\n",
      "    height=[10, 20, 50, 80, 100, 200],\n",
      "    bottom=[0, 1, 2, 3, 4, 5, 6],\n",
      "    width=[1, 4, 8, 16, 32, 64, 128],\n",
      "    multi_left=[0, 10, 20, 30, 40, 50],\n",
      "    multi_height=[1, 4, 8, 16, 32, 64],\n",
      "    multi_bottom=[15, 30, 45, 60, 75, 90],\n",
      "    multi_width=[30, 60, 20, 50, 60, 30]\n",
      ")"
     ],
     "language": "python",
     "metadata": {},
     "outputs": [],
     "prompt_number": 2
    },
    {
     "cell_type": "code",
     "collapsed": false,
     "input": [
      "fig, ax = plt.subplots()\n",
      "ax.bar(left=D['left'], height=D['height'])"
     ],
     "language": "python",
     "metadata": {},
     "outputs": [
      {
       "metadata": {},
       "output_type": "pyout",
       "prompt_number": 3,
       "text": [
        "<Container object of 6 artists>"
       ]
      }
     ],
     "prompt_number": 3
    },
    {
     "cell_type": "code",
     "collapsed": false,
     "input": [
      "print tls.mpl_to_plotly(fig).to_string(pretty=False)"
     ],
     "language": "python",
     "metadata": {},
     "outputs": [
      {
       "output_type": "stream",
       "stream": "stdout",
       "text": [
        "Figure(\n",
        "    data=Data([\n",
        "        Bar(\n",
        "            x=[0.40000000000000002, 1.3999999999999999, 2.3999999999999999, 3.3999999999999999, 4.4000000000000004, 5.4000000000000004],\n",
        "            y=[10.0, 20.0, 50.0, 80.0, 100.0, 200.0],\n",
        "            orientation='v',\n",
        "            marker=Marker(\n",
        "                line=Line(\n",
        "                    width=1.0\n",
        "                ),\n",
        "                color='#0000FF'\n",
        "            ),\n",
        "            opacity=1,\n",
        "            xaxis='x1',\n",
        "            yaxis='y1'\n",
        "        )\n",
        "    ]),\n",
        "    layout=Layout(\n",
        "        width=640,\n",
        "        height=480,\n",
        "        autosize=False,\n",
        "        margin=Margin(\n",
        "            l=80,\n",
        "            r=63,\n",
        "            b=47,\n",
        "            t=47,\n",
        "            pad=0\n",
        "        ),\n",
        "        hovermode='closest',\n",
        "        showlegend=False,\n",
        "        xaxis1=XAxis(\n",
        "            domain=[0.0, 1.0],\n",
        "            range=[0.0, 6.0],\n",
        "            type='linear',\n",
        "            showline=True,\n",
        "            ticks='inside',\n",
        "            nticks=7,\n",
        "            showgrid=False,\n",
        "            zeroline=False,\n",
        "            tickfont=Font(\n",
        "                size=12.0\n",
        "            ),\n",
        "            anchor='y1',\n",
        "            side='bottom',\n",
        "            mirror='ticks'\n",
        "        ),\n",
        "        yaxis1=YAxis(\n",
        "            domain=[0.0, 1.0],\n",
        "            range=[0.0, 200.0],\n",
        "            type='linear',\n",
        "            showline=True,\n",
        "            ticks='inside',\n",
        "            nticks=5,\n",
        "            showgrid=False,\n",
        "            zeroline=False,\n",
        "            tickfont=Font(\n",
        "                size=12.0\n",
        "            ),\n",
        "            anchor='x1',\n",
        "            side='left',\n",
        "            mirror='ticks'\n",
        "        )\n",
        "    )\n",
        ")\n"
       ]
      },
      {
       "output_type": "stream",
       "stream": "stderr",
       "text": [
        "/Users/andseier/Virtualenvs/python-api/lib/python2.7/site-packages/plotly-1.0.9-py2.7.egg/plotly/matplotlylib/renderer.py:211: UserWarning: found box chart data with length <= 1, assuming data redundancy, not plotting.\n",
        "  warnings.warn('found box chart data with length <= 1, '\n"
       ]
      }
     ],
     "prompt_number": 4
    },
    {
     "cell_type": "code",
     "collapsed": false,
     "input": [
      "fig, ax = plt.subplots()\n",
      "ax.barh(bottom=D['bottom'], width=D['width'])"
     ],
     "language": "python",
     "metadata": {},
     "outputs": [
      {
       "metadata": {},
       "output_type": "pyout",
       "prompt_number": 5,
       "text": [
        "<Container object of 7 artists>"
       ]
      }
     ],
     "prompt_number": 5
    },
    {
     "cell_type": "code",
     "collapsed": false,
     "input": [
      "print tls.mpl_to_plotly(fig).to_string(pretty=False)"
     ],
     "language": "python",
     "metadata": {},
     "outputs": [
      {
       "output_type": "stream",
       "stream": "stdout",
       "text": [
        "Figure(\n",
        "    data=Data([\n",
        "        Bar(\n",
        "            x=[1.0, 4.0, 8.0, 16.0, 32.0, 64.0, 128.0],\n",
        "            y=[0.40000000000000002, 1.3999999999999999, 2.3999999999999999, 3.3999999999999999, 4.4000000000000004, 5.4000000000000004, 6.4000000000000004],\n",
        "            orientation='h',\n",
        "            marker=Marker(\n",
        "                line=Line(\n",
        "                    width=1.0\n",
        "                ),\n",
        "                color='#0000FF'\n",
        "            ),\n",
        "            opacity=1,\n",
        "            xaxis='x1',\n",
        "            yaxis='y1'\n",
        "        )\n",
        "    ]),\n",
        "    layout=Layout(\n",
        "        width=640,\n",
        "        height=480,\n",
        "        autosize=False,\n",
        "        margin=Margin(\n",
        "            l=80,\n",
        "            r=63,\n",
        "            b=47,\n",
        "            t=47,\n",
        "            pad=0\n",
        "        ),\n",
        "        hovermode='closest',\n",
        "        showlegend=False,\n",
        "        xaxis1=XAxis(\n",
        "            domain=[0.0, 1.0],\n",
        "            range=[0.0, 140.0],\n",
        "            type='linear',\n",
        "            showline=True,\n",
        "            ticks='inside',\n",
        "            nticks=8,\n",
        "            showgrid=False,\n",
        "            zeroline=False,\n",
        "            tickfont=Font(\n",
        "                size=12.0\n",
        "            ),\n",
        "            anchor='y1',\n",
        "            side='bottom',\n",
        "            mirror='ticks'\n",
        "        ),\n",
        "        yaxis1=YAxis(\n",
        "            domain=[0.0, 1.0],\n",
        "            range=[0.0, 7.0],\n",
        "            type='linear',\n",
        "            showline=True,\n",
        "            ticks='inside',\n",
        "            nticks=8,\n",
        "            showgrid=False,\n",
        "            zeroline=False,\n",
        "            tickfont=Font(\n",
        "                size=12.0\n",
        "            ),\n",
        "            anchor='x1',\n",
        "            side='left',\n",
        "            mirror='ticks'\n",
        "        )\n",
        "    )\n",
        ")\n"
       ]
      }
     ],
     "prompt_number": 6
    },
    {
     "cell_type": "code",
     "collapsed": false,
     "input": [
      "fig, ax = plt.subplots()\n",
      "ax.bar(left=D['multi_left'], height=D['multi_height'],\n",
      "       width=10, color='green', alpha=.5)\n",
      "ax.barh(bottom=D['multi_bottom'], width=D['multi_width'],\n",
      "        height=10, color='red', alpha=.5)"
     ],
     "language": "python",
     "metadata": {},
     "outputs": [
      {
       "metadata": {},
       "output_type": "pyout",
       "prompt_number": 7,
       "text": [
        "<Container object of 6 artists>"
       ]
      }
     ],
     "prompt_number": 7
    },
    {
     "cell_type": "code",
     "collapsed": false,
     "input": [
      "print tls.mpl_to_plotly(fig).to_string(pretty=False)"
     ],
     "language": "python",
     "metadata": {},
     "outputs": [
      {
       "output_type": "stream",
       "stream": "stdout",
       "text": [
        "Figure(\n",
        "    data=Data([\n",
        "        Bar(\n",
        "            x=[5.0, 15.0, 25.0, 35.0, 45.0, 55.0],\n",
        "            y=[1.0, 4.0, 8.0, 16.0, 32.0, 64.0],\n",
        "            orientation='v',\n",
        "            marker=Marker(\n",
        "                line=Line(\n",
        "                    width=1.0\n",
        "                ),\n",
        "                color='#008000'\n",
        "            ),\n",
        "            opacity=0.5,\n",
        "            xaxis='x1',\n",
        "            yaxis='y1'\n",
        "        ),\n",
        "        Bar(\n",
        "            x=[30.0, 60.0, 20.0, 50.0, 60.0, 30.0],\n",
        "            y=[20.0, 35.0, 50.0, 65.0, 80.0, 95.0],\n",
        "            orientation='h',\n",
        "            marker=Marker(\n",
        "                line=Line(\n",
        "                    width=1.0\n",
        "                ),\n",
        "                color='#FF0000'\n",
        "            ),\n",
        "            opacity=0.5,\n",
        "            xaxis='x1',\n",
        "            yaxis='y1'\n",
        "        )\n",
        "    ]),\n",
        "    layout=Layout(\n",
        "        width=640,\n",
        "        height=480,\n",
        "        autosize=False,\n",
        "        margin=Margin(\n",
        "            l=80,\n",
        "            r=63,\n",
        "            b=47,\n",
        "            t=47,\n",
        "            pad=0\n",
        "        ),\n",
        "        hovermode='closest',\n",
        "        showlegend=False,\n",
        "        xaxis1=XAxis(\n",
        "            domain=[0.0, 1.0],\n",
        "            range=[0.0, 60.0],\n",
        "            type='linear',\n",
        "            showline=True,\n",
        "            ticks='inside',\n",
        "            nticks=7,\n",
        "            showgrid=False,\n",
        "            zeroline=False,\n",
        "            tickfont=Font(\n",
        "                size=12.0\n",
        "            ),\n",
        "            anchor='y1',\n",
        "            side='bottom',\n",
        "            mirror='ticks'\n",
        "        ),\n",
        "        yaxis1=YAxis(\n",
        "            domain=[0.0, 1.0],\n",
        "            range=[0.0, 100.0],\n",
        "            type='linear',\n",
        "            showline=True,\n",
        "            ticks='inside',\n",
        "            nticks=6,\n",
        "            showgrid=False,\n",
        "            zeroline=False,\n",
        "            tickfont=Font(\n",
        "                size=12.0\n",
        "            ),\n",
        "            anchor='x1',\n",
        "            side='left',\n",
        "            mirror='ticks'\n",
        "        )\n",
        "    )\n",
        ")\n"
       ]
      }
     ],
     "prompt_number": 8
    },
    {
     "cell_type": "code",
     "collapsed": false,
     "input": [],
     "language": "python",
     "metadata": {},
     "outputs": []
    }
   ],
   "metadata": {}
  }
 ]
}