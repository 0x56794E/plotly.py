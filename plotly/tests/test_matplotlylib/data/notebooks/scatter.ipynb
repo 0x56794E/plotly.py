{
 "metadata": {
  "name": "",
  "signature": "sha256:81495fb68a4332325b23ae51c61a85bdce2d1d85d3c723cee36c2aca8456e3fd"
 },
 "nbformat": 3,
 "nbformat_minor": 0,
 "worksheets": [
  {
   "cells": [
    {
     "cell_type": "code",
     "collapsed": false,
     "input": [
      "import matplotlib.pyplot as plt\n",
      "import plotly.plotly as py\n",
      "import plotly.tools as tls\n",
      "from plotly.graph_objs import *"
     ],
     "language": "python",
     "metadata": {},
     "outputs": [],
     "prompt_number": 1
    },
    {
     "cell_type": "code",
     "collapsed": false,
     "input": [
      "D = dict(\n",
      "    x1=[1, 2, 2, 4, 5, 6, 1, 7, 8, 5 ,3],\n",
      "    y1=[5, 3, 7, 2, 9, 7, 8, 4, 5, 9, 2],\n",
      "    x2=[-1, 1, -0.3, -0.6, 0.4, 0.8, -0.1, 0.7],\n",
      "    y2=[-0.5, 0.4, 0.7, -0.6, 0.3, -1, 0, 0.3]\n",
      ")"
     ],
     "language": "python",
     "metadata": {},
     "outputs": [],
     "prompt_number": 2
    },
    {
     "cell_type": "code",
     "collapsed": false,
     "input": [
      "fig, ax = plt.subplots()\n",
      "ax.scatter(D['x1'], D['y1'])"
     ],
     "language": "python",
     "metadata": {},
     "outputs": [
      {
       "metadata": {},
       "output_type": "pyout",
       "prompt_number": 3,
       "text": [
        "<matplotlib.collections.PathCollection at 0x1149ef110>"
       ]
      }
     ],
     "prompt_number": 3
    },
    {
     "cell_type": "code",
     "collapsed": false,
     "input": [
      "print tls.mpl_to_plotly(fig).to_string(pretty=False)"
     ],
     "language": "python",
     "metadata": {},
     "outputs": [
      {
       "output_type": "stream",
       "stream": "stdout",
       "text": [
        "Figure(\n",
        "    data=Data([\n",
        "        Scatter(\n",
        "            x=[1.0, 2.0, 2.0, 4.0, 5.0, 6.0, 1.0, 7.0, 8.0, 5.0, 3.0],\n",
        "            y=[5.0, 3.0, 7.0, 2.0, 9.0, 7.0, 8.0, 4.0, 5.0, 9.0, 2.0],\n",
        "            mode='markers',\n",
        "            marker=Marker(\n",
        "                symbol='dot',\n",
        "                line=Line(\n",
        "                    color='rgb(0,0,0)',\n",
        "                    width=1.0\n",
        "                ),\n",
        "                size=4.4721359549995796,\n",
        "                color='rgb(0,0,255)',\n",
        "                opacity=1.0\n",
        "            ),\n",
        "            xaxis='x1',\n",
        "            yaxis='y1'\n",
        "        )\n",
        "    ]),\n",
        "    layout=Layout(\n",
        "        width=640,\n",
        "        height=480,\n",
        "        autosize=False,\n",
        "        margin=Margin(\n",
        "            l=80,\n",
        "            r=63,\n",
        "            b=47,\n",
        "            t=47,\n",
        "            pad=0\n",
        "        ),\n",
        "        hovermode='closest',\n",
        "        showlegend=False,\n",
        "        xaxis1=XAxis(\n",
        "            domain=[0.0, 1.0],\n",
        "            range=[0.0, 9.0],\n",
        "            type='linear',\n",
        "            showline=True,\n",
        "            ticks='inside',\n",
        "            nticks=10,\n",
        "            showgrid=False,\n",
        "            zeroline=False,\n",
        "            tickfont=Font(\n",
        "                size=12.0\n",
        "            ),\n",
        "            anchor='y1',\n",
        "            side='bottom',\n",
        "            mirror='ticks'\n",
        "        ),\n",
        "        yaxis1=YAxis(\n",
        "            domain=[0.0, 1.0],\n",
        "            range=[1.0, 10.0],\n",
        "            type='linear',\n",
        "            showline=True,\n",
        "            ticks='inside',\n",
        "            nticks=10,\n",
        "            showgrid=False,\n",
        "            zeroline=False,\n",
        "            tickfont=Font(\n",
        "                size=12.0\n",
        "            ),\n",
        "            anchor='x1',\n",
        "            side='left',\n",
        "            mirror='ticks'\n",
        "        )\n",
        "    )\n",
        ")\n"
       ]
      }
     ],
     "prompt_number": 4
    },
    {
     "cell_type": "code",
     "collapsed": false,
     "input": [
      "fig, ax = plt.subplots()\n",
      "ax.scatter(D['x1'], D['y1'], color='red', s=121, marker='^', alpha=0.5)\n",
      "ax.scatter(D['x2'], D['y2'], color='purple', s=64, marker='s', alpha=0.5)"
     ],
     "language": "python",
     "metadata": {},
     "outputs": [
      {
       "metadata": {},
       "output_type": "pyout",
       "prompt_number": 5,
       "text": [
        "<matplotlib.collections.PathCollection at 0x112b39650>"
       ]
      }
     ],
     "prompt_number": 5
    },
    {
     "cell_type": "code",
     "collapsed": false,
     "input": [
      "print tls.mpl_to_plotly(fig).to_string(pretty=False)"
     ],
     "language": "python",
     "metadata": {},
     "outputs": [
      {
       "output_type": "stream",
       "stream": "stdout",
       "text": [
        "Figure(\n",
        "    data=Data([\n",
        "        Scatter(\n",
        "            x=[1.0, 2.0, 2.0, 4.0, 5.0, 6.0, 1.0, 7.0, 8.0, 5.0, 3.0],\n",
        "            y=[5.0, 3.0, 7.0, 2.0, 9.0, 7.0, 8.0, 4.0, 5.0, 9.0, 2.0],\n",
        "            mode='markers',\n",
        "            marker=Marker(\n",
        "                symbol='triangle-up',\n",
        "                line=Line(\n",
        "                    color='rgb(255,0,0)',\n",
        "                    width=1.0\n",
        "                ),\n",
        "                size=11.0,\n",
        "                color='rgb(255,0,0)',\n",
        "                opacity=0.5\n",
        "            ),\n",
        "            xaxis='x1',\n",
        "            yaxis='y1'\n",
        "        ),\n",
        "        Scatter(\n",
        "            x=[-1.0, 1.0, -0.29999999999999999, -0.59999999999999998, 0.40000000000000002, 0.80000000000000004, -0.10000000000000001, 0.69999999999999996],\n",
        "            y=[-0.5, 0.40000000000000002, 0.69999999999999996, -0.59999999999999998, 0.29999999999999999, -1.0, 0.0, 0.29999999999999999],\n",
        "            mode='markers',\n",
        "            marker=Marker(\n",
        "                symbol='square',\n",
        "                line=Line(\n",
        "                    color='rgb(128,0,128)',\n",
        "                    width=1.0\n",
        "                ),\n",
        "                size=8.0,\n",
        "                color='rgb(128,0,128)',\n",
        "                opacity=0.5\n",
        "            ),\n",
        "            xaxis='x1',\n",
        "            yaxis='y1'\n",
        "        )\n",
        "    ]),\n",
        "    layout=Layout(\n",
        "        width=640,\n",
        "        height=480,\n",
        "        autosize=False,\n",
        "        margin=Margin(\n",
        "            l=80,\n",
        "            r=63,\n",
        "            b=47,\n",
        "            t=47,\n",
        "            pad=0\n",
        "        ),\n",
        "        hovermode='closest',\n",
        "        showlegend=False,\n",
        "        xaxis1=XAxis(\n",
        "            domain=[0.0, 1.0],\n",
        "            range=[-2.0, 10.0],\n",
        "            type='linear',\n",
        "            showline=True,\n",
        "            ticks='inside',\n",
        "            nticks=7,\n",
        "            showgrid=False,\n",
        "            zeroline=False,\n",
        "            tickfont=Font(\n",
        "                size=12.0\n",
        "            ),\n",
        "            anchor='y1',\n",
        "            side='bottom',\n",
        "            mirror='ticks'\n",
        "        ),\n",
        "        yaxis1=YAxis(\n",
        "            domain=[0.0, 1.0],\n",
        "            range=[-2.0, 10.0],\n",
        "            type='linear',\n",
        "            showline=True,\n",
        "            ticks='inside',\n",
        "            nticks=7,\n",
        "            showgrid=False,\n",
        "            zeroline=False,\n",
        "            tickfont=Font(\n",
        "                size=12.0\n",
        "            ),\n",
        "            anchor='x1',\n",
        "            side='left',\n",
        "            mirror='ticks'\n",
        "        )\n",
        "    )\n",
        ")\n"
       ]
      }
     ],
     "prompt_number": 7
    },
    {
     "cell_type": "code",
     "collapsed": false,
     "input": [],
     "language": "python",
     "metadata": {},
     "outputs": []
    }
   ],
   "metadata": {}
  }
 ]
}